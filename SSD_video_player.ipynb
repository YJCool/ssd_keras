{
 "cells": [
  {
   "cell_type": "markdown",
   "metadata": {},
   "source": [
    "# Video Player"
   ]
  },
  {
   "cell_type": "markdown",
   "metadata": {},
   "source": [
    "## How to use Video Player\n",
    "- Video\n",
    "\n",
    "```\n",
    "player = VideoPlayer(source_path, verbose)\n",
    "player.play(start, step, last)\n",
    "```\n",
    "\n",
    "- WebCam\n",
    "\n",
    "```\n",
    "player = VideoPlayer(0)\n",
    "player.play()\n",
    "```"
   ]
  },
  {
   "cell_type": "code",
   "execution_count": 1,
   "metadata": {},
   "outputs": [
    {
     "name": "stderr",
     "output_type": "stream",
     "text": [
      "Using TensorFlow backend.\n"
     ]
    }
   ],
   "source": [
    "import cv2\n",
    "import keras\n",
    "from keras.applications.imagenet_utils import preprocess_input\n",
    "from keras.backend.tensorflow_backend import set_session\n",
    "from keras.models import Model\n",
    "from keras.preprocessing import image\n",
    "import matplotlib.pyplot as plt\n",
    "import numpy as np\n",
    "from imageio import imread\n",
    "import tensorflow as tf\n",
    "\n",
    "from ssd import SSD300\n",
    "from ssd_utils import BBoxUtility"
   ]
  },
  {
   "cell_type": "code",
   "execution_count": 2,
   "metadata": {
    "collapsed": true
   },
   "outputs": [],
   "source": [
    "class VideoPlayer:\n",
    "    def __init__(self, source_path=None, verbose=1):\n",
    "        \"\"\"\n",
    "        source_path: file path\n",
    "          if nothing specified 0 is set and WebCam is selected if available.\n",
    "        verbose: to be used to karas prediction (0,1)\n",
    "        ex)\n",
    "        video = VideoPlayer(source_pathpath) # for video\n",
    "        video.play(10,10,1000) # view from 10 frame to 1000 frame step 10\n",
    "        video = VideoPlayer() # for webcam\n",
    "        video.play()\n",
    "        To interrupt video, push escape key.\n",
    "        \"\"\"\n",
    "        if source_path == None:\n",
    "            self.source_path = 0\n",
    "        else:\n",
    "            self.source_path = source_path\n",
    "        self.cap = cv2.VideoCapture(self.source_path)\n",
    "        self.verbose = verbose\n",
    "        self.frame_count = int(self.cap.get(cv2.CAP_PROP_FRAME_COUNT))\n",
    "        self.fps = int(self.cap.get(cv2.CAP_PROP_FPS))\n",
    "        self.width = int(self.cap.get(cv2.CAP_PROP_FRAME_WIDTH))\n",
    "        self.height = int(self.cap.get(cv2.CAP_PROP_FRAME_HEIGHT))\n",
    "        #self.voc_classes = ['worker', 'others']\n",
    "        self.voc_classes = ['Aeroplane', 'Bicycle', 'Bird', 'Boat', 'Bottle',\n",
    "               'Bus', 'Car', 'Cat', 'Chair', 'Cow', 'Diningtable',\n",
    "               'Dog', 'Horse','Motorbike', 'Person', 'Pottedplant',\n",
    "               'Sheep', 'Sofa', 'Train', 'Tvmonitor']\n",
    "        self.num_classes = len(self.voc_classes) + 1\n",
    "        self.input_shape = (300, 300, 3)\n",
    "        self.model = SSD300(self.input_shape, num_classes=self.num_classes)\n",
    "        #self.model.load_weights('custome_weights.23-1.22.hdf5', by_name=True)\n",
    "        self.model.load_weights('weights_SSD300.hdf5', by_name=True)\n",
    "        self.bbox_util = BBoxUtility(self.num_classes)\n",
    "        self.frame = None\n",
    "        self.idx = None\n",
    "        \n",
    "        print('width: {}, height: {}'.format(self.width, self.height))\n",
    "        print('Total frames: {}'.format(self.frame_count))\n",
    "        print('fps: {}'.format(self.fps))\n",
    "\n",
    "    def _play(self):\n",
    "        \n",
    "        img = cv2.resize(self.frame, (300, 300))\n",
    "        pred = self.model.predict(np.array([img]), batch_size=1, verbose=self.verbose)\n",
    "        results = self.bbox_util.detection_out(pred)\n",
    "        \n",
    "        det_label = results[0][:, 0]\n",
    "        det_conf = results[0][:, 1]\n",
    "        det_xmin = results[0][:, 2]\n",
    "        det_ymin = results[0][:, 3]\n",
    "        det_xmax = results[0][:, 4]\n",
    "        det_ymax = results[0][:, 5]\n",
    "        \n",
    "        # Get detections with confidence higher than 0.6.\n",
    "        top_indices = [i for i, conf in enumerate(det_conf) if conf >= 0.6]\n",
    "        \n",
    "        top_conf = det_conf[top_indices]\n",
    "        top_label_indices = det_label[top_indices].tolist()\n",
    "        top_xmin = det_xmin[top_indices]\n",
    "        top_ymin = det_ymin[top_indices]\n",
    "        top_xmax = det_xmax[top_indices]\n",
    "        top_ymax = det_ymax[top_indices]\n",
    "        \n",
    "        #colors = plt.cm.hsv(np.linspace(0, 1, 21)).tolist()\n",
    "        font = cv2.FONT_HERSHEY_PLAIN\n",
    "        \n",
    "        if self.frame_count != -1: \n",
    "            display_frm = 'frame: {}'.format(self.idx)\n",
    "            cv2.putText(self.frame, display_frm, (0, 25), font, 1, (255,255,255), 1)\n",
    "        \n",
    "        for i in range(top_conf.shape[0]):\n",
    "            xmin = int(round(top_xmin[i] * self.frame.shape[1]))\n",
    "            ymin = int(round(top_ymin[i] * self.frame.shape[0]))\n",
    "            xmax = int(round(top_xmax[i] * self.frame.shape[1]))\n",
    "            ymax = int(round(top_ymax[i] * self.frame.shape[0]))\n",
    "            score = top_conf[i]\n",
    "            label = int(top_label_indices[i])\n",
    "            label_name = self.voc_classes[label - 1]\n",
    "            display_txt = '{:0.2f}, {}'.format(score, label_name)\n",
    "            \n",
    "            cv2.rectangle(self.frame, (xmin, ymin), (xmax, ymax), (0,255,0), 2)\n",
    "            cv2.putText(self.frame, display_txt, (xmin, ymin), font, 1, (0,0,255), 1)\n",
    "        \n",
    "        #cv2.imshow(\"img\", self.frame)\n",
    "\n",
    "\n",
    "    def play(self, start=0, step=100, last=None):\n",
    "        \"\"\"\n",
    "        these parameters is available only for video\n",
    "        \n",
    "        start: the frame to start you want\n",
    "        step: interval of time between showing\n",
    "        last: the frame to last you want\n",
    "        \"\"\"\n",
    "        \n",
    "        if self.frame_count == -1:\n",
    "            while(1):\n",
    "                ret, self.frame = self.cap.read()\n",
    "                if not ret:\n",
    "                    print(\"Video Reader does not work well.\")\n",
    "                    break\n",
    "                self._play()\n",
    "                cv2.imshow('img', self.frame)\n",
    "                if cv2.waitKey(1) == 27: # escape\n",
    "                    print(\"Breaked.\")\n",
    "                    break\n",
    "        else:\n",
    "            if last == None:\n",
    "                last = self.frame_count\n",
    "            \n",
    "            for self.idx in range(start, last, step):\n",
    "                self.cap.set(cv2.CAP_PROP_POS_FRAMES, self.idx)\n",
    "                ret, self.frame = self.cap.read()\n",
    "                if not ret:\n",
    "                    print(\"Video Reader does not work well.\")\n",
    "                    break\n",
    "                self._play()\n",
    "                cv2.imshow('img', self.frame)\n",
    "                if cv2.waitKey(1) == 27: # escape\n",
    "                    print(\"Breaked.\")\n",
    "                    break\n",
    "        self.cap.release()\n",
    "        cv2.destroyAllWindows()\n",
    "        print(\"Finished.\")"
   ]
  },
  {
   "cell_type": "code",
   "execution_count": 3,
   "metadata": {},
   "outputs": [
    {
     "name": "stdout",
     "output_type": "stream",
     "text": [
      "width: 640, height: 480\n",
      "Total frames: -1\n",
      "fps: 0\n"
     ]
    }
   ],
   "source": [
    "# webcam mode\n",
    "player = VideoPlayer(verbose=0)"
   ]
  },
  {
   "cell_type": "code",
   "execution_count": 4,
   "metadata": {},
   "outputs": [
    {
     "name": "stdout",
     "output_type": "stream",
     "text": [
      "Breaked.\n",
      "Finished.\n"
     ]
    }
   ],
   "source": [
    "player.play()"
   ]
  },
  {
   "cell_type": "code",
   "execution_count": null,
   "metadata": {},
   "outputs": [],
   "source": []
  },
  {
   "cell_type": "markdown",
   "metadata": {},
   "source": [
    "# Video Recorder"
   ]
  },
  {
   "cell_type": "markdown",
   "metadata": {},
   "source": [
    "## How to use Video Recorder\n",
    "- Video\n",
    "\n",
    "```\n",
    "recorder = VideoRecorder(source_path, verbose)\n",
    "recorder.record(target_path, start, step, last)\n",
    "```\n",
    "\n",
    "- WebCam\n",
    "\n",
    "```\n",
    "recorder = VideoRecorder(0, verbose)\n",
    "recorder.record(target_path)\n",
    "```"
   ]
  },
  {
   "cell_type": "code",
   "execution_count": 5,
   "metadata": {},
   "outputs": [],
   "source": [
    "class VideoRecorder(VideoPlayer):\n",
    "    \n",
    "    def record(self, target_path=None, start=0, step=100, last=None):\n",
    "        \"\"\"\n",
    "        To interrupt video, push escape key.\n",
    "        these parameters is available only for video\n",
    "\n",
    "        start: the frame to start you want\n",
    "        step: interval of time between showing\n",
    "        last: the frame to last you want\n",
    "        \"\"\"\n",
    "        \n",
    "        if target_path == None:\n",
    "            target_path = 'out.mp4'\n",
    "        \n",
    "        if self.fps == 0:\n",
    "            self.fps = 10\n",
    "        fourcc = cv2.VideoWriter_fourcc(*'XVID')\n",
    "        out = cv2.VideoWriter(target_path, fourcc, self.fps, (self.width, self.height))\n",
    "        \n",
    "        if self.frame_count == -1:\n",
    "            while(1):\n",
    "                ret, self.frame = self.cap.read()\n",
    "                if not ret:\n",
    "                    print(\"Video Reader does not work well.\")\n",
    "                    break\n",
    "                self._play()\n",
    "                cv2.imshow('img', self.frame)\n",
    "                out.write(self.frame)\n",
    "                if cv2.waitKey(1) == 27: # escape\n",
    "                    print(\"Breaked.\")\n",
    "                    break\n",
    "        else:\n",
    "            if last == None:\n",
    "                last = self.frame_count\n",
    "            \n",
    "            for self.idx in range(start, last, step):\n",
    "                self.cap.set(cv2.CAP_PROP_POS_FRAMES, self.idx)\n",
    "                ret, self.frame = self.cap.read()\n",
    "                if not ret:\n",
    "                    print(\"Video Reader does not work well.\")\n",
    "                    break\n",
    "                self._play()\n",
    "                out.write(self.frame)\n",
    "                if cv2.waitKey(1) == 27: # escape\n",
    "                    print(\"Breaked.\")\n",
    "                    break\n",
    "        self.cap.release()\n",
    "        cv2.destroyAllWindows()\n",
    "        print(\"Finished.\")"
   ]
  },
  {
   "cell_type": "code",
   "execution_count": 6,
   "metadata": {},
   "outputs": [
    {
     "name": "stdout",
     "output_type": "stream",
     "text": [
      "width: 640, height: 480\n",
      "Total frames: -1\n",
      "fps: 0\n"
     ]
    }
   ],
   "source": [
    "# webcam mode\n",
    "recorder = VideoRecorder(0, verbose=0)"
   ]
  },
  {
   "cell_type": "code",
   "execution_count": 7,
   "metadata": {},
   "outputs": [
    {
     "name": "stdout",
     "output_type": "stream",
     "text": [
      "Breaked.\n",
      "Finished.\n"
     ]
    }
   ],
   "source": [
    "recorder.record('out.avi')"
   ]
  },
  {
   "cell_type": "code",
   "execution_count": null,
   "metadata": {},
   "outputs": [],
   "source": []
  }
 ],
 "metadata": {
  "kernelspec": {
   "display_name": "Python 3",
   "language": "python",
   "name": "python3"
  },
  "language_info": {
   "codemirror_mode": {
    "name": "ipython",
    "version": 3
   },
   "file_extension": ".py",
   "mimetype": "text/x-python",
   "name": "python",
   "nbconvert_exporter": "python",
   "pygments_lexer": "ipython3",
   "version": "3.5.5"
  },
  "toc": {
   "base_numbering": 1,
   "nav_menu": {},
   "number_sections": false,
   "sideBar": true,
   "skip_h1_title": true,
   "title_cell": "Table of Contents",
   "title_sidebar": "Contents",
   "toc_cell": false,
   "toc_position": {
    "height": "calc(100% - 180px)",
    "left": "10px",
    "top": "150px",
    "width": "274px"
   },
   "toc_section_display": true,
   "toc_window_display": true
  },
  "varInspector": {
   "cols": {
    "lenName": 16,
    "lenType": 16,
    "lenVar": 40
   },
   "kernels_config": {
    "python": {
     "delete_cmd_postfix": "",
     "delete_cmd_prefix": "del ",
     "library": "var_list.py",
     "varRefreshCmd": "print(var_dic_list())"
    },
    "r": {
     "delete_cmd_postfix": ") ",
     "delete_cmd_prefix": "rm(",
     "library": "var_list.r",
     "varRefreshCmd": "cat(var_dic_list()) "
    }
   },
   "types_to_exclude": [
    "module",
    "function",
    "builtin_function_or_method",
    "instance",
    "_Feature"
   ],
   "window_display": false
  }
 },
 "nbformat": 4,
 "nbformat_minor": 2
}
